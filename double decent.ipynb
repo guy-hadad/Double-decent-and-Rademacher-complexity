{
  "cells": [
    {
      "cell_type": "markdown",
      "source": [
        "שאלה 1"
      ],
      "metadata": {
        "id": "PSv5ID417RQ2"
      }
    },
    {
      "cell_type": "code",
      "source": [
        "import torch\n",
        "import torchvision\n",
        "from torchvision import transforms\n",
        "from torch import nn\n",
        "import math\n",
        "import random\n",
        "import numpy as np\n",
        "import matplotlib.pyplot as plt\n"
      ],
      "metadata": {
        "id": "F0i3IIyX1xt5"
      },
      "execution_count": null,
      "outputs": []
    },
    {
      "cell_type": "code",
      "source": [
        "input_size = 2\n",
        "output_size = 1\n",
        "data = [(1., 1.), (2., 2.), (3., 0.), (4., 2.)]\n",
        "data = torch.tensor(data)\n",
        "device = torch.device('cuda' if torch.cuda.is_available() else 'cpu')\n",
        "print(f'Working on device \"{device}\"')"
      ],
      "metadata": {
        "id": "UqYNfINi2JfO",
        "outputId": "f21433d6-5ad0-4949-f486-2ea9ef2c2505",
        "colab": {
          "base_uri": "https://localhost:8080/"
        }
      },
      "execution_count": null,
      "outputs": [
        {
          "output_type": "stream",
          "name": "stdout",
          "text": [
            "Working on device \"cuda\"\n"
          ]
        }
      ]
    },
    {
      "cell_type": "code",
      "source": [
        "class SimpleNN(nn.Module):\n",
        "    def __init__(self, input_size, output_size, func):\n",
        "        super(SimpleNN, self).__init__()\n",
        "        self.first_linear = nn.Linear(input_size, input_size)\n",
        "        self.second_linear = nn.Linear(input_size, output_size)\n",
        "        self.fun = func\n",
        "        self.tanh = nn.Tanh()\n",
        "        self.relu = nn.ReLU()\n",
        "    \n",
        "    def forward(self, x):\n",
        "        out = self.first_linear(x)\n",
        "        if self.fun == \"relu\":\n",
        "          out = self.relu(out)\n",
        "        if self.fun == \"tanh\":\n",
        "          out = self.tanh(out)\n",
        "        out = self.second_linear(out)\n",
        "        return out\n",
        "\n",
        "    def classify(self, datapoint):\n",
        "      a = self.forward(datapoint)\n",
        "      if a > 0:\n",
        "        return True\n",
        "      return False\n",
        "\n",
        "    def correlation(self, data, labels):\n",
        "        assert len(data) == len(labels)\n",
        "        assert all(x == 1 or x == -1 for x in labels)\n",
        "        predicted = [1 if(self.classify(d)) else -1 for d in data]\n",
        "        return float(np.dot(predicted, labels)) / float(len(data))\n"
      ],
      "metadata": {
        "id": "YmE4eYr92YvB"
      },
      "execution_count": null,
      "outputs": []
    },
    {
      "cell_type": "code",
      "source": [
        "def coin_tosses(number, random_seed=0):\n",
        "\n",
        "    \n",
        "    if random_seed != 0:\n",
        "        random.seed(random_seed)\n",
        "        np.random.seed(random_seed)\n",
        "\n",
        "    return [np.random.randint(0, 2) * 2 - 1 for x in range(number)]"
      ],
      "metadata": {
        "id": "a5QhHjpQ3Jui"
      },
      "execution_count": null,
      "outputs": []
    },
    {
      "cell_type": "code",
      "source": [
        "\n",
        "def rademacher_estimate(dataset, hypothesis_generator, num_samples=50000, random_seed=0):\n",
        "\n",
        "\n",
        "    total = list()\n",
        "\n",
        "    for ii in range(num_samples):\n",
        "        if random_seed != 0:\n",
        "            rademacher = coin_tosses(len(dataset), random_seed + ii)\n",
        "        else:\n",
        "            rademacher = coin_tosses(len(dataset))\n",
        "\n",
        "        total.append(max([h.correlation(dataset, rademacher) for h in list(hypothesis_generator(dataset))]))\n",
        "\n",
        "    return sum(total) / num_samples"
      ],
      "metadata": {
        "id": "IDNRkXe-3_MT"
      },
      "execution_count": null,
      "outputs": []
    },
    {
      "cell_type": "code",
      "source": [
        "def init(model):\n",
        "  nn.init.normal_(model.first_linear.weight, 1, 1)\n",
        "  nn.init.normal_(model.second_linear.weight, 1, 1)\n",
        "  nn.init.normal_(model.first_linear.bias, 1, 1)\n",
        "  nn.init.normal_(model.second_linear.bias, 1, 1)\n"
      ],
      "metadata": {
        "id": "RH5fsNMK4TZv"
      },
      "execution_count": null,
      "outputs": []
    },
    {
      "cell_type": "code",
      "source": [
        "models_without = []\n",
        "for i in range(50):\n",
        "  i = SimpleNN(input_size, output_size, \"without\")\n",
        "  init(i)\n",
        "  models_without.append(i)\n",
        "\n",
        "models_relu = []\n",
        "for i in range(50):\n",
        "  i = SimpleNN(input_size, output_size, \"relu\")\n",
        "  init(i)\n",
        "  models_relu.append(i)\n",
        "\n",
        "\n",
        "models_tanh = []\n",
        "for i in range(50):\n",
        "  i = SimpleNN(input_size, output_size, \"tanh\")\n",
        "  init(i)\n",
        "  models_tanh.append(i)"
      ],
      "metadata": {
        "id": "anl0ngA_rVo0"
      },
      "execution_count": null,
      "outputs": []
    },
    {
      "cell_type": "code",
      "source": [
        "def hypothesis_without_generator(dataset):\n",
        "  return models_without\n",
        "\n",
        "def hypothesis_relu_generator(dataset):\n",
        "  return models_relu\n",
        "\n",
        "def hypothesis_tanh_generator(dataset):\n",
        "  return models_tanh"
      ],
      "metadata": {
        "id": "of-Xu7fx3pk4"
      },
      "execution_count": null,
      "outputs": []
    },
    {
      "cell_type": "code",
      "source": [
        "print(f'NN without activation classifier {rademacher_estimate(data, hypothesis_without_generator)}')\n",
        "print(f'NN with relu classifier  {rademacher_estimate(data, hypothesis_relu_generator)}')\n",
        "print(f'NN with tanh classifier {rademacher_estimate(data, hypothesis_tanh_generator)}')\n"
      ],
      "metadata": {
        "colab": {
          "base_uri": "https://localhost:8080/"
        },
        "id": "IPGrQKHat2Ys",
        "outputId": "7b12f240-884f-4249-f1d7-7df889695f64"
      },
      "execution_count": null,
      "outputs": [
        {
          "output_type": "stream",
          "name": "stdout",
          "text": [
            "NN without activation classifier 0.65445\n",
            "NN with relu classifier  0.62625\n",
            "NN with tanh classifier 0.65804\n"
          ]
        }
      ]
    },
    {
      "cell_type": "markdown",
      "source": [
        "שאלה 3"
      ],
      "metadata": {
        "id": "hb65zrEIwzop"
      }
    },
    {
      "cell_type": "code",
      "source": [
        "std = 0.1\n",
        "weights = torch.rand(100)\n",
        "norm_weights = weights / torch.linalg.norm(weights)\n",
        "testX = torch.normal(0, 1, size = (10000, 100))\n",
        "epsilon = torch.normal(0, std, size = (1, 100))\n",
        "min_train_size = 20\n",
        "max_train_size = 200\n",
        "RMSE = []"
      ],
      "metadata": {
        "id": "pp1h9Xpkyzil"
      },
      "execution_count": null,
      "outputs": []
    },
    {
      "cell_type": "code",
      "source": [
        "def new_label(true_weights, feature_matrix):\n",
        "    error = torch.squeeze(torch.normal(0, std, size = (feature_matrix.size()[0],1)))\n",
        "    return feature_matrix @ true_weights + error\n",
        "\n",
        "def calculate_RMSE(feature_matrix, weight_estimate, true_weights):\n",
        "    return torch.sqrt(torch.mean(torch.square(torch.subtract(torch.matmul(feature_matrix, weight_estimate), new_label(true_weights, feature_matrix)))))"
      ],
      "metadata": {
        "id": "1mLke6sRy0kS"
      },
      "execution_count": null,
      "outputs": []
    },
    {
      "cell_type": "code",
      "source": [
        "for num in range(min_train_size, max_train_size):\n",
        "    train_X = torch.normal(0 , 1, size = (num, 100))\n",
        "    train_Y = new_label(norm_weights, train_X)\n",
        "    approximate_weight = torch.linalg.lstsq(train_X, train_Y).solution\n",
        "    RMSE.append(calculate_RMSE(testX, approximate_weight, norm_weights))"
      ],
      "metadata": {
        "id": "kBTOKBjey6eE"
      },
      "execution_count": null,
      "outputs": []
    },
    {
      "cell_type": "code",
      "source": [
        "plt.plot(range(min_train_size, max_train_size), RMSE)\n",
        "plt.title(\"Double descent\")\n",
        "plt.ylabel(\"RMSE\")\n",
        "plt.xlabel(\"Size of Training\")\n",
        "plt.show()"
      ],
      "metadata": {
        "colab": {
          "base_uri": "https://localhost:8080/",
          "height": 295
        },
        "id": "XR0KycjZy7Ei",
        "outputId": "4dca9f3a-3c68-467b-f215-92d6e47ecf99"
      },
      "execution_count": null,
      "outputs": [
        {
          "output_type": "display_data",
          "data": {
            "image/png": "[encoded data removed]",
            "text/plain": [
              "<Figure size 432x288 with 1 Axes>"
            ]
          },
          "metadata": {
            "needs_background": "light"
          }
        }
      ]
    }
  ],
  "metadata": {
    "colab": {
      "collapsed_sections": [],
      "name": "q2.ipynb",
      "toc_visible": true,
      "provenance": []
    },
    "kernelspec": {
      "display_name": "Python 3",
      "name": "python3"
    },
    "accelerator": "GPU"
  },
  "nbformat": 4,
  "nbformat_minor": 0
}